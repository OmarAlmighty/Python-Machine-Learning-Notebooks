{
 "cells": [
  {
   "cell_type": "markdown",
   "metadata": {},
   "source": [
    "# Implementing a deep CNN using PyTorch"
   ]
  },
  {
   "cell_type": "markdown",
   "metadata": {},
   "source": [
    "## Loading and preprocessing the data"
   ]
  },
  {
   "cell_type": "code",
   "execution_count": 13,
   "metadata": {},
   "outputs": [],
   "source": [
    "import torchvision\n",
    "from torchvision import transforms\n",
    "\n",
    "image_path = './'\n",
    "transform = transforms.Compose(\n",
    "    [\n",
    "        transforms.ToTensor()\n",
    "    ]\n",
    ")\n",
    "mnist_dataset = torchvision.datasets.MNIST(\n",
    "    root=image_path, train=True, transform=transform, download=False\n",
    ")"
   ]
  },
  {
   "cell_type": "code",
   "execution_count": 15,
   "metadata": {},
   "outputs": [],
   "source": [
    "from torch.utils.data import Subset\n",
    "import torch\n",
    "\n",
    "mnist_valid_dataset = Subset(mnist_dataset, torch.arange(10000))\n",
    "mnist_train_dataset = Subset(mnist_dataset, torch.arange(10000, len(mnist_dataset)))\n",
    "mnist_test_dataset = torchvision.datasets.MNIST(root=image_path, train=False, transform=transform, download=False)"
   ]
  },
  {
   "cell_type": "code",
   "execution_count": 16,
   "metadata": {},
   "outputs": [],
   "source": [
    "# construct the data loader with batches of 64 images for the training set and validation set, respectively\n",
    "\n",
    "from torch.utils.data import DataLoader\n",
    "\n",
    "batch_size=64\n",
    "torch.manual_seed(1)\n",
    "\n",
    "train_dl = DataLoader(mnist_train_dataset, batch_size=batch_size, shuffle=True)\n",
    "valid_dl = DataLoader(mnist_valid_dataset, batch_size=batch_size, shuffle=False)"
   ]
  },
  {
   "cell_type": "markdown",
   "metadata": {},
   "source": [
    "## Constructing a CNN in PyTorch"
   ]
  },
  {
   "cell_type": "code",
   "execution_count": 17,
   "metadata": {},
   "outputs": [],
   "source": [
    "import torch.nn as nn\n",
    "\n",
    "model = nn.Sequential()\n",
    "model.add_module(\n",
    "    'conv1', nn.Conv2d(in_channels=1, out_channels=32, kernel_size=5, padding=2)\n",
    ")\n",
    "model.add_module(\n",
    "    'relu1', nn.ReLU()\n",
    ")\n",
    "model.add_module(\n",
    "    'pool1', nn.MaxPool2d(kernel_size=2)\n",
    ")\n",
    "model.add_module(\n",
    "    'conv2', nn.Conv2d(in_channels=32, out_channels=64, kernel_size=5, padding=2)\n",
    ")\n",
    "model.add_module(\n",
    "    'relu2', nn.ReLU()\n",
    ")\n",
    "model.add_module(\n",
    "    'pool2', nn.MaxPool2d(kernel_size=2)\n",
    ")\n",
    "model.add_module(\n",
    "    'flatten', nn.Flatten()\n",
    ")\n",
    "\n",
    "### to compute the output size of the model\n",
    "# x = torch.ones((4, 1, 28, 28))\n",
    "# model(x).shape\n",
    "### \n",
    "\n",
    "model.add_module(\n",
    "    'fc1', nn.Linear(3136, 1024) # after flattening the input, its size = 3136\n",
    ")\n",
    "model.add_module(\n",
    "    'relu3', nn.ReLU()\n",
    ")\n",
    "model.add_module(\n",
    "    'dropout', nn.Dropout(p=0.5)\n",
    ")\n",
    "model.add_module(\n",
    "    'fc2', nn.Linear(1024, 10) \n",
    ")\n",
    "# the softmax function is already used internally inside PyTorch’s CrossEntropyLoss implementation, \n",
    "# which is why don’t have to explicitly add it as a layer after the output layer above."
   ]
  },
  {
   "cell_type": "code",
   "execution_count": 18,
   "metadata": {},
   "outputs": [],
   "source": [
    "loss_fn = nn.CrossEntropyLoss()\n",
    "optimizer = torch.optim.Adam(model.parameters(), lr=0.001)"
   ]
  },
  {
   "cell_type": "code",
   "execution_count": 19,
   "metadata": {},
   "outputs": [],
   "source": [
    "def train(model, num_epochs, train_dl, valid_dl):\n",
    "    loss_hist_train = [0] * num_epochs\n",
    "    loss_hist_valid = [0] * num_epochs\n",
    "    accuracy_hist_train = [0] * num_epochs\n",
    "    accuracy_hist_valid = [0] * num_epochs\n",
    "    for epoch in range(num_epochs):\n",
    "        model.train()\n",
    "        for x_batch, y_batch in train_dl:\n",
    "            pred = model(x_batch)\n",
    "            loss = loss_fn(pred, y_batch)\n",
    "            loss.backward()\n",
    "            optimizer.step()\n",
    "            optimizer.zero_grad()\n",
    "            loss_hist_train[epoch] += loss.item()*y_batch.size(0)\n",
    "            is_correct = (torch.argmax(pred, dim=1) == y_batch).float()\n",
    "            accuracy_hist_train[epoch] += is_correct.sum()\n",
    "        \n",
    "        loss_hist_train[epoch] /= len(train_dl.dataset)\n",
    "        accuracy_hist_train[epoch] /= len(train_dl.dataset)\n",
    "\n",
    "        model.eval()\n",
    "        with torch.no_grad():\n",
    "            for x_batch, y_batch in valid_dl:\n",
    "                pred = model(x_batch)\n",
    "                loss = loss_fn(pred, y_batch)\n",
    "                loss_hist_valid[epoch] += loss.item()*y_batch.size(0)\n",
    "                is_correct = (torch.argmax(pred, dim=1) == y_batch).float()\n",
    "                accuracy_hist_valid[epoch]+=is_correct.sum()\n",
    "            \n",
    "            loss_hist_valid[epoch] /= len(valid_dl.dataset)\n",
    "            accuracy_hist_valid[epoch] /= len(valid_dl.dataset)\n",
    "            \n",
    "        print(f'Epoch {epoch+1} accuracy: {accuracy_hist_train[epoch]:.4f} val_accuracy: {accuracy_hist_valid[epoch]:.4f}')\n",
    "    return loss_hist_train, loss_hist_valid, accuracy_hist_train, accuracy_hist_valid"
   ]
  },
  {
   "cell_type": "code",
   "execution_count": 20,
   "metadata": {},
   "outputs": [
    {
     "name": "stdout",
     "output_type": "stream",
     "text": [
      "Epoch 1 accuracy: 0.9493 val_accuracy: 0.9809\n",
      "Epoch 2 accuracy: 0.9839 val_accuracy: 0.9875\n",
      "Epoch 3 accuracy: 0.9892 val_accuracy: 0.9881\n",
      "Epoch 4 accuracy: 0.9917 val_accuracy: 0.9871\n",
      "Epoch 5 accuracy: 0.9933 val_accuracy: 0.9894\n",
      "Epoch 6 accuracy: 0.9943 val_accuracy: 0.9905\n",
      "Epoch 7 accuracy: 0.9952 val_accuracy: 0.9869\n",
      "Epoch 8 accuracy: 0.9956 val_accuracy: 0.9912\n",
      "Epoch 9 accuracy: 0.9965 val_accuracy: 0.9896\n",
      "Epoch 10 accuracy: 0.9965 val_accuracy: 0.9876\n",
      "Epoch 11 accuracy: 0.9970 val_accuracy: 0.9915\n",
      "Epoch 12 accuracy: 0.9974 val_accuracy: 0.9884\n",
      "Epoch 13 accuracy: 0.9980 val_accuracy: 0.9904\n",
      "Epoch 14 accuracy: 0.9973 val_accuracy: 0.9881\n",
      "Epoch 15 accuracy: 0.9977 val_accuracy: 0.9908\n",
      "Epoch 16 accuracy: 0.9981 val_accuracy: 0.9906\n",
      "Epoch 17 accuracy: 0.9976 val_accuracy: 0.9899\n",
      "Epoch 18 accuracy: 0.9982 val_accuracy: 0.9903\n",
      "Epoch 19 accuracy: 0.9982 val_accuracy: 0.9903\n",
      "Epoch 20 accuracy: 0.9987 val_accuracy: 0.9929\n"
     ]
    }
   ],
   "source": [
    "torch.manual_seed(1)\n",
    "num_epochs = 20\n",
    "hist = train(model, num_epochs, train_dl, valid_dl)"
   ]
  },
  {
   "cell_type": "code",
   "execution_count": 22,
   "metadata": {},
   "outputs": [
    {
     "data": {
      "text/plain": [
       "Text(0, 0.5, 'Accuracy')"
      ]
     },
     "execution_count": 22,
     "metadata": {},
     "output_type": "execute_result"
    },
    {
     "data": {
      "image/png": "[encoded data removed]",
      "text/plain": [
       "<Figure size 864x288 with 2 Axes>"
      ]
     },
     "metadata": {
      "needs_background": "light"
     },
     "output_type": "display_data"
    }
   ],
   "source": [
    "import matplotlib.pyplot as plt\n",
    "import numpy as np\n",
    "\n",
    "x_arr = np.arange(len(hist[0])) + 1\n",
    "\n",
    "fig = plt.figure(figsize=(12, 4))\n",
    "ax =  fig.add_subplot(1, 2, 1)\n",
    "ax.plot(x_arr, hist[0], '-o', label='Train loss')\n",
    "ax.plot(x_arr, hist[1], '--<', label='Validation loss')\n",
    "ax.legend(fontsize=15)\n",
    "ax.set_xlabel('Epoch', size=15)\n",
    "ax.set_ylabel('Loss', size=15)\n",
    "\n",
    "ax = fig.add_subplot(1, 2, 2)\n",
    "ax.plot(x_arr, hist[2], '-o', label='Train acc.')\n",
    "ax.plot(x_arr, hist[3], '--<', label='Validaion acc.')\n",
    "ax.legend(fontsize=15)\n",
    "ax.set_xlabel('Epoch', size=15)\n",
    "ax.set_ylabel('Accuracy', size=15)"
   ]
  },
  {
   "cell_type": "code",
   "execution_count": 23,
   "metadata": {},
   "outputs": [
    {
     "name": "stdout",
     "output_type": "stream",
     "text": [
      "Test accuracy: 0.9939\n"
     ]
    }
   ],
   "source": [
    "# evaluate the trained model on the test dataset\n",
    "\n",
    "pred = model(mnist_test_dataset.data.unsqueeze(1) / 255.)\n",
    "is_correct = (torch.argmax(pred, dim=1) == mnist_test_dataset.targets).float()\n",
    "print(f'Test accuracy: {is_correct.mean():.4f}')"
   ]
  },
  {
   "cell_type": "markdown",
   "metadata": {},
   "source": [
    "`mnist_test_dataset[0]` is a tuple of (image matrix, label)\n",
    "\n",
    "so, `mnist_test_dataset[0][0]` returns the image matrix -- a 3d tensor\n",
    "\n",
    "`mnist_test_dataset[0][0][0, :, :]` returns the 2D image matrix"
   ]
  },
  {
   "cell_type": "code",
   "execution_count": 24,
   "metadata": {},
   "outputs": [
    {
     "data": {
      "image/png": "[encoded data removed]",
      "text/plain": [
       "<Figure size 864x288 with 12 Axes>"
      ]
     },
     "metadata": {},
     "output_type": "display_data"
    }
   ],
   "source": [
    "# get the prediction results in the form of class-membership probabilities and convert them to predicted labels\n",
    "fig = plt.figure(figsize=(12, 4))\n",
    "for i in range(12):\n",
    "    ax = fig.add_subplot(2, 6, i+1)\n",
    "    ax.set_xticks([])\n",
    "    ax.set_yticks([])\n",
    "    img = mnist_test_dataset[i][0][0, :, :] \n",
    "    pred = model(img.unsqueeze(0).unsqueeze(1))\n",
    "    y_pred = torch.argmax(pred)\n",
    "    ax.imshow(img, cmap='gray_r')\n",
    "    ax.text(0.9, 0.1, y_pred.item(), \n",
    "            size=15, color='blue',\n",
    "            horizontalalignment='center',\n",
    "            verticalalignment='center', \n",
    "            transform=ax.transAxes)\n",
    "plt.show()"
   ]
  }
 ],
 "metadata": {
  "kernelspec": {
   "display_name": "Python 3.8.8 ('base')",
   "language": "python",
   "name": "python3"
  },
  "language_info": {
   "codemirror_mode": {
    "name": "ipython",
    "version": 3
   },
   "file_extension": ".py",
   "mimetype": "text/x-python",
   "name": "python",
   "nbconvert_exporter": "python",
   "pygments_lexer": "ipython3",
   "version": "3.8.8"
  },
  "orig_nbformat": 4,
  "vscode": {
   "interpreter": {
    "hash": "0b4ffc9c9a031070cdf645d18822cd1abb711111454341ec96112cbb04136171"
   }
  }
 },
 "nbformat": 4,
 "nbformat_minor": 2
}
