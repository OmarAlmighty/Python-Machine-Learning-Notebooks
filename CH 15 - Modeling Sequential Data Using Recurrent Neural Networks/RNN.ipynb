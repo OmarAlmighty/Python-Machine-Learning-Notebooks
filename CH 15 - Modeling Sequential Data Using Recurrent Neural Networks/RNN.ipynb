{
 "cells": [
  {
   "cell_type": "markdown",
   "metadata": {},
   "source": [
    "# Manually compute the forward pass of the hidden-to-hidden recurrence"
   ]
  },
  {
   "cell_type": "code",
   "execution_count": 24,
   "metadata": {},
   "outputs": [
    {
     "name": "stdout",
     "output_type": "stream",
     "text": [
      "W_xh shape: torch.Size([2, 5])\n",
      "W_hh shape: torch.Size([2, 2])\n",
      "b_xh shape: torch.Size([2])\n",
      "b_hh shape: torch.Size([2])\n"
     ]
    }
   ],
   "source": [
    "import torch \n",
    "import torch.nn as nn\n",
    "torch.manual_seed(1)\n",
    "\n",
    "rnn_layer = nn.RNN(input_size=5, hidden_size=2, num_layers=1, batch_first=True)\n",
    "w_xh = rnn_layer.weight_ih_l0\n",
    "w_hh = rnn_layer.weight_hh_l0\n",
    "b_xh = rnn_layer.bias_ih_l0\n",
    "b_hh = rnn_layer.bias_hh_l0\n",
    "\n",
    "print('W_xh shape:', w_xh.shape)\n",
    "print('W_hh shape:', w_hh.shape)\n",
    "print('b_xh shape:', b_xh.shape)\n",
    "print('b_hh shape:', b_xh.shape)\n"
   ]
  },
  {
   "cell_type": "code",
   "execution_count": 25,
   "metadata": {},
   "outputs": [
    {
     "name": "stdout",
     "output_type": "stream",
     "text": [
      "---x_seq---\n",
      "torch.Size([3, 5])\n",
      "---output---\n",
      "torch.Size([1, 3, 2])\n",
      "----hn----\n",
      "torch.Size([1, 1, 2])\n"
     ]
    }
   ],
   "source": [
    "# Now, we will call the forward pass on the rnn_layer \n",
    "x_seq = torch.tensor([\n",
    "    [1.0]*5, \n",
    "    [2.0]*5, \n",
    "    [3.0]*5\n",
    "    ]).float()\n",
    "print('---x_seq---')\n",
    "print(x_seq.shape)\n",
    "\n",
    "## output of the simple RNN:\n",
    "output, hn = rnn_layer(torch.reshape(x_seq, (1, 3, 5))) # added batch size dimension = 1\n",
    "print('---output---')\n",
    "print(output.shape)\n",
    "print('----hn----')\n",
    "print(hn.shape)"
   ]
  },
  {
   "cell_type": "code",
   "execution_count": 28,
   "metadata": {},
   "outputs": [
    {
     "name": "stdout",
     "output_type": "stream",
     "text": [
      "time step 0 =>\n",
      "     Input               : [[1. 1. 1. 1. 1.]]\n",
      "     Hidden              : [[-0.4701929  0.5863904]]\n",
      "     Output (manual)     : [[-0.3519801   0.52525216]]\n",
      "     RNN output          : [[-0.3519801   0.52525216]]\n",
      "\n",
      "time step 1 =>\n",
      "     Input               : [[2. 2. 2. 2. 2.]]\n",
      "     Hidden              : [[-0.88883156  1.2364397 ]]\n",
      "     Output (manual)     : [[-0.68424344  0.76074266]]\n",
      "     RNN output          : [[-0.68424344  0.76074266]]\n",
      "\n",
      "time step 2 =>\n",
      "     Input               : [[3. 3. 3. 3. 3.]]\n",
      "     Hidden              : [[-1.3074701  1.886489 ]]\n",
      "     Output (manual)     : [[-0.8649416   0.90466356]]\n",
      "     RNN output          : [[-0.8649416   0.90466356]]\n",
      "\n"
     ]
    }
   ],
   "source": [
    "## manually computing the output:\n",
    "out_man = []\n",
    "for t in range(3):\n",
    "    xt = torch.reshape(x_seq[t], (1, 5))\n",
    "    print(f'time step {t} =>')\n",
    "    print('     Input               :', xt.numpy())\n",
    "\n",
    "    ht = torch.matmul(xt, torch.transpose(w_xh, 0, 1))+b_xh\n",
    "    print('     Hidden              :', ht.detach().numpy())\n",
    "\n",
    "    if t > 0:\n",
    "        prev_h = out_man[t-1]\n",
    "    else:\n",
    "        prev_h = torch.zeros((ht.shape))\n",
    "    \n",
    "    ot = ht + torch.matmul(prev_h, torch.transpose(w_hh, 0, 1)) + b_hh\n",
    "    ot = torch.tanh(ot)\n",
    "    out_man.append(ot)\n",
    "    \n",
    "    print('     Output (manual)     :', ot.detach().numpy())\n",
    "    print('     RNN output          :', output[:, t].detach().numpy())\n",
    "    print()"
   ]
  },
  {
   "cell_type": "code",
   "execution_count": null,
   "metadata": {},
   "outputs": [],
   "source": []
  }
 ],
 "metadata": {
  "kernelspec": {
   "display_name": "Python 3.8.8 ('base')",
   "language": "python",
   "name": "python3"
  },
  "language_info": {
   "codemirror_mode": {
    "name": "ipython",
    "version": 3
   },
   "file_extension": ".py",
   "mimetype": "text/x-python",
   "name": "python",
   "nbconvert_exporter": "python",
   "pygments_lexer": "ipython3",
   "version": "3.8.8"
  },
  "orig_nbformat": 4,
  "vscode": {
   "interpreter": {
    "hash": "0b4ffc9c9a031070cdf645d18822cd1abb711111454341ec96112cbb04136171"
   }
  }
 },
 "nbformat": 4,
 "nbformat_minor": 2
}
